{
 "cells": [
  {
   "cell_type": "markdown",
   "metadata": {},
   "source": [
    "# Boolean Indexing"
   ]
  },
  {
   "cell_type": "code",
   "execution_count": 4,
   "metadata": {},
   "outputs": [],
   "source": [
    "import numpy as np"
   ]
  },
  {
   "cell_type": "code",
   "execution_count": 5,
   "metadata": {},
   "outputs": [
    {
     "data": {
      "text/plain": [
       "array(['Sun', 'Mon', 'Tue', 'Wed', 'Thu', 'Fri', 'Sat', 'Sun', 'Thu',\n",
       "       'Thu'], dtype='<U3')"
      ]
     },
     "execution_count": 5,
     "metadata": {},
     "output_type": "execute_result"
    }
   ],
   "source": [
    "days = np.array(['Sun', 'Mon', 'Tue', 'Wed', 'Thu', 'Fri', 'Sat', 'Sun', 'Thu', 'Thu'])\n",
    "days"
   ]
  },
  {
   "cell_type": "code",
   "execution_count": 6,
   "metadata": {},
   "outputs": [
    {
     "data": {
      "text/plain": [
       "array([[ 1.24532174,  0.49854315,  0.70250809,  0.62917668],\n",
       "       [-0.65102925,  0.75765907, -1.03555021,  0.18104237],\n",
       "       [-1.01080964,  0.38592213,  0.72461397, -0.06823537],\n",
       "       [-0.0754466 ,  1.24114017, -2.32689791, -0.87919749],\n",
       "       [ 1.03125299, -1.3112537 , -0.70263037,  1.66197738],\n",
       "       [ 0.89127889, -0.18655924,  1.41986745, -1.32653725],\n",
       "       [-0.98075342,  1.41783154, -0.97272792,  0.95003225],\n",
       "       [ 0.82084389, -1.05821736,  0.58617084, -1.14398982],\n",
       "       [-1.34922521,  0.88083847, -0.44354802, -1.55879516],\n",
       "       [-0.39166515, -1.46291973, -0.02187216,  0.37237836]])"
      ]
     },
     "execution_count": 6,
     "metadata": {},
     "output_type": "execute_result"
    }
   ],
   "source": [
    "data = np.random.randn(10, 4)\n",
    "data"
   ]
  },
  {
   "cell_type": "code",
   "execution_count": 7,
   "metadata": {},
   "outputs": [
    {
     "data": {
      "text/plain": [
       "array([ True, False, False, False, False, False, False,  True, False,\n",
       "       False])"
      ]
     },
     "execution_count": 7,
     "metadata": {},
     "output_type": "execute_result"
    }
   ],
   "source": [
    "days == 'Sun'"
   ]
  },
  {
   "cell_type": "code",
   "execution_count": 8,
   "metadata": {},
   "outputs": [
    {
     "data": {
      "text/plain": [
       "array([[ 1.24532174,  0.49854315,  0.70250809,  0.62917668],\n",
       "       [ 0.82084389, -1.05821736,  0.58617084, -1.14398982]])"
      ]
     },
     "execution_count": 8,
     "metadata": {},
     "output_type": "execute_result"
    }
   ],
   "source": [
    "data[days=='Sun']"
   ]
  },
  {
   "cell_type": "code",
   "execution_count": 9,
   "metadata": {},
   "outputs": [
    {
     "data": {
      "text/plain": [
       "array([[ 0.49854315,  0.70250809,  0.62917668],\n",
       "       [-1.05821736,  0.58617084, -1.14398982]])"
      ]
     },
     "execution_count": 9,
     "metadata": {},
     "output_type": "execute_result"
    }
   ],
   "source": [
    "data[days=='Sun', 1:]"
   ]
  },
  {
   "cell_type": "code",
   "execution_count": 10,
   "metadata": {},
   "outputs": [
    {
     "data": {
      "text/plain": [
       "array([ 0.49854315, -1.05821736])"
      ]
     },
     "execution_count": 10,
     "metadata": {},
     "output_type": "execute_result"
    }
   ],
   "source": [
    "data[days=='Sun', 1]"
   ]
  },
  {
   "cell_type": "code",
   "execution_count": 8,
   "metadata": {},
   "outputs": [
    {
     "data": {
      "text/plain": [
       "array([False,  True,  True,  True,  True,  True,  True, False,  True,\n",
       "        True])"
      ]
     },
     "execution_count": 8,
     "metadata": {},
     "output_type": "execute_result"
    }
   ],
   "source": [
    "days != 'Sun'"
   ]
  },
  {
   "cell_type": "code",
   "execution_count": 9,
   "metadata": {},
   "outputs": [
    {
     "data": {
      "text/plain": [
       "array([False,  True,  True,  True,  True,  True,  True, False,  True,\n",
       "        True])"
      ]
     },
     "execution_count": 9,
     "metadata": {},
     "output_type": "execute_result"
    }
   ],
   "source": [
    "~(days == 'Sun')                        # this symbol is used to negate the condition. "
   ]
  },
  {
   "cell_type": "code",
   "execution_count": 10,
   "metadata": {},
   "outputs": [
    {
     "data": {
      "text/plain": [
       "array([[-0.0613477 ,  0.8308607 ,  0.09922152,  0.98912745],\n",
       "       [ 0.53477836, -0.93688299, -2.09243621,  0.52828142],\n",
       "       [-1.04345958, -1.0481358 ,  1.2696092 , -0.10741584],\n",
       "       [-0.68026828,  0.98088998,  0.85177922, -1.27499814],\n",
       "       [-1.21808615,  0.33724649, -0.36068433, -0.29507253],\n",
       "       [ 0.04457884, -0.89596789, -0.25695732, -1.30245996],\n",
       "       [-0.67132395, -0.80409242, -1.05868473, -0.11754513],\n",
       "       [ 0.04055683, -0.75262135, -0.12225205, -1.62781047]])"
      ]
     },
     "execution_count": 10,
     "metadata": {},
     "output_type": "execute_result"
    }
   ],
   "source": [
    "data[~(days=='Sun')]"
   ]
  },
  {
   "cell_type": "code",
   "execution_count": 11,
   "metadata": {},
   "outputs": [
    {
     "data": {
      "text/plain": [
       "array([ True, False, False, False, False, False, False,  True, False,\n",
       "       False])"
      ]
     },
     "execution_count": 11,
     "metadata": {},
     "output_type": "execute_result"
    }
   ],
   "source": [
    "cond = (days=='Sun')\n",
    "cond"
   ]
  },
  {
   "cell_type": "code",
   "execution_count": 12,
   "metadata": {},
   "outputs": [
    {
     "data": {
      "text/plain": [
       "array([[-0.0613477 ,  0.8308607 ,  0.09922152,  0.98912745],\n",
       "       [ 0.53477836, -0.93688299, -2.09243621,  0.52828142],\n",
       "       [-1.04345958, -1.0481358 ,  1.2696092 , -0.10741584],\n",
       "       [-0.68026828,  0.98088998,  0.85177922, -1.27499814],\n",
       "       [-1.21808615,  0.33724649, -0.36068433, -0.29507253],\n",
       "       [ 0.04457884, -0.89596789, -0.25695732, -1.30245996],\n",
       "       [-0.67132395, -0.80409242, -1.05868473, -0.11754513],\n",
       "       [ 0.04055683, -0.75262135, -0.12225205, -1.62781047]])"
      ]
     },
     "execution_count": 12,
     "metadata": {},
     "output_type": "execute_result"
    }
   ],
   "source": [
    "data[~cond]"
   ]
  },
  {
   "cell_type": "code",
   "execution_count": 13,
   "metadata": {},
   "outputs": [
    {
     "data": {
      "text/plain": [
       "array([ True, False, False, False,  True, False, False,  True,  True,\n",
       "        True])"
      ]
     },
     "execution_count": 13,
     "metadata": {},
     "output_type": "execute_result"
    }
   ],
   "source": [
    "multi_cond = (days=='Sun') | (days == 'Thu')\n",
    "multi_cond"
   ]
  },
  {
   "cell_type": "code",
   "execution_count": 14,
   "metadata": {},
   "outputs": [
    {
     "data": {
      "text/plain": [
       "array([[ 0.48806782, -2.45046071, -0.51818333, -1.45871172],\n",
       "       [-0.68026828,  0.98088998,  0.85177922, -1.27499814],\n",
       "       [-1.11380715,  0.20001238,  1.16422775, -0.34262239],\n",
       "       [-0.67132395, -0.80409242, -1.05868473, -0.11754513],\n",
       "       [ 0.04055683, -0.75262135, -0.12225205, -1.62781047]])"
      ]
     },
     "execution_count": 14,
     "metadata": {},
     "output_type": "execute_result"
    }
   ],
   "source": [
    "data[multi_cond]"
   ]
  },
  {
   "cell_type": "code",
   "execution_count": 15,
   "metadata": {},
   "outputs": [
    {
     "data": {
      "text/plain": [
       "array([[0.48806782, 0.        , 0.        , 0.        ],\n",
       "       [0.        , 0.8308607 , 0.09922152, 0.98912745],\n",
       "       [0.53477836, 0.        , 0.        , 0.52828142],\n",
       "       [0.        , 0.        , 1.2696092 , 0.        ],\n",
       "       [0.        , 0.98088998, 0.85177922, 0.        ],\n",
       "       [0.        , 0.33724649, 0.        , 0.        ],\n",
       "       [0.04457884, 0.        , 0.        , 0.        ],\n",
       "       [0.        , 0.20001238, 1.16422775, 0.        ],\n",
       "       [0.        , 0.        , 0.        , 0.        ],\n",
       "       [0.04055683, 0.        , 0.        , 0.        ]])"
      ]
     },
     "execution_count": 15,
     "metadata": {},
     "output_type": "execute_result"
    }
   ],
   "source": [
    "data[data < 0] = 0                     # data and filter the data where the array elements are < 0 and assign 0 for them. \n",
    "data"
   ]
  },
  {
   "cell_type": "code",
   "execution_count": 16,
   "metadata": {},
   "outputs": [
    {
     "data": {
      "text/plain": [
       "array([[0.48806782, 0.        , 0.        , 0.        ],\n",
       "       [0.5       , 0.5       , 0.5       , 0.5       ],\n",
       "       [0.5       , 0.5       , 0.5       , 0.5       ],\n",
       "       [0.5       , 0.5       , 0.5       , 0.5       ],\n",
       "       [0.5       , 0.5       , 0.5       , 0.5       ],\n",
       "       [0.5       , 0.5       , 0.5       , 0.5       ],\n",
       "       [0.5       , 0.5       , 0.5       , 0.5       ],\n",
       "       [0.        , 0.20001238, 1.16422775, 0.        ],\n",
       "       [0.5       , 0.5       , 0.5       , 0.5       ],\n",
       "       [0.5       , 0.5       , 0.5       , 0.5       ]])"
      ]
     },
     "execution_count": 16,
     "metadata": {},
     "output_type": "execute_result"
    }
   ],
   "source": [
    "data[days != 'Sun'] = 0.5\n",
    "data"
   ]
  },
  {
   "cell_type": "code",
   "execution_count": null,
   "metadata": {},
   "outputs": [],
   "source": []
  }
 ],
 "metadata": {
  "kernelspec": {
   "display_name": "Python 3 (ipykernel)",
   "language": "python",
   "name": "python3"
  },
  "language_info": {
   "codemirror_mode": {
    "name": "ipython",
    "version": 3
   },
   "file_extension": ".py",
   "mimetype": "text/x-python",
   "name": "python",
   "nbconvert_exporter": "python",
   "pygments_lexer": "ipython3",
   "version": "3.10.5"
  }
 },
 "nbformat": 4,
 "nbformat_minor": 4
}
